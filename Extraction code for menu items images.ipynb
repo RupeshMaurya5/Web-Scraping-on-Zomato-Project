{
 "cells": [
  {
   "cell_type": "code",
   "execution_count": 1,
   "id": "ebcb7636",
   "metadata": {},
   "outputs": [],
   "source": [
    "from selenium import webdriver\n",
    "from bs4 import BeautifulSoup\n",
    "from selenium.webdriver.chrome.service import Service\n",
    "import time\n",
    "import requests\n",
    "import pandas as pd"
   ]
  },
  {
   "cell_type": "code",
   "execution_count": 2,
   "id": "37db4fc0",
   "metadata": {},
   "outputs": [],
   "source": [
    "url = 'https://www.zomato.com/allahabad/nirala-misthan-bhandar-chowk/order'\n",
    "s = Service(\"C:/chromedriver-win64/chromedriver.exe\")"
   ]
  },
  {
   "cell_type": "code",
   "execution_count": 3,
   "id": "eb4a03e0",
   "metadata": {},
   "outputs": [],
   "source": [
    "driver = webdriver.Chrome(service = s)\n",
    "driver.get(url)\n",
    "time.sleep(4)"
   ]
  },
  {
   "cell_type": "code",
   "execution_count": 4,
   "id": "92fbe2e0",
   "metadata": {},
   "outputs": [],
   "source": [
    "height = driver.execute_script(\"return document.body.scrollHeight\")"
   ]
  },
  {
   "cell_type": "code",
   "execution_count": 5,
   "id": "b502026d",
   "metadata": {},
   "outputs": [],
   "source": [
    "while True:\n",
    "    driver.execute_script(\"window.scrollTo(0, document.body.scrollHeight)\")\n",
    "    time.sleep(6)\n",
    "    new_height = driver.execute_script(\"return document.body.scrollHeight\")\n",
    "    if height == new_height:\n",
    "        break\n",
    "    height = new_height"
   ]
  },
  {
   "cell_type": "code",
   "execution_count": 6,
   "id": "17579c2b",
   "metadata": {},
   "outputs": [],
   "source": [
    "html = driver.page_source"
   ]
  },
  {
   "cell_type": "code",
   "execution_count": 7,
   "id": "8f8525bf",
   "metadata": {},
   "outputs": [
    {
     "name": "stdout",
     "output_type": "stream",
     "text": [
      "200\n"
     ]
    }
   ],
   "source": [
    "session = requests.Session()\n",
    "session.headers.update({\n",
    "    'User-Agent': 'Mozilla/5.0 (Windows NT 10.0; Win64; x64) AppleWebKit/537.36 (KHTML, like Gecko) Chrome/91.0.4472.124 Safari/537.36',\n",
    "    'Accept-Language': 'en-US,en;q=0.9',\n",
    "    'Accept-Encoding': 'gzip, deflate, br',\n",
    "    'Referer': 'https://www.zomato.com/'\n",
    "})\n",
    "\n",
    "response = session.get(url)\n",
    "print(response.status_code)"
   ]
  },
  {
   "cell_type": "code",
   "execution_count": 8,
   "id": "c6b73f1e",
   "metadata": {},
   "outputs": [],
   "source": [
    "soup = BeautifulSoup(html, 'html.parser')"
   ]
  },
  {
   "cell_type": "code",
   "execution_count": 11,
   "id": "3e279c98",
   "metadata": {},
   "outputs": [],
   "source": [
    "image_tags = soup.find_all('img', class_='sc-s1isp7-5 fyZwWD') "
   ]
  },
  {
   "cell_type": "code",
   "execution_count": 12,
   "id": "fd275300",
   "metadata": {},
   "outputs": [
    {
     "data": {
      "text/plain": [
       "[<img alt=\"Masala Dosa\" class=\"sc-s1isp7-5 fyZwWD\" loading=\"lazy\" src=\"https://b.zmtcdn.com/data/dish_photos/26a/486fd188e5489e2724c3e45d3986726a.png?fit=around|130:130&amp;crop=130:130;*,*\"/>,\n",
       " <img alt=\"Special Kaju Paneer Dosa\" class=\"sc-s1isp7-5 fyZwWD\" loading=\"lazy\" src=\"https://b.zmtcdn.com/data/dish_photos/9c1/adf54a7cb346b45b544ec34ebd4499c1.png?fit=around|130:130&amp;crop=130:130;*,*\"/>,\n",
       " <img alt=\"Pav Bhaji [1 Plate, 2 Pav]\" class=\"sc-s1isp7-5 fyZwWD\" loading=\"lazy\" src=\"https://b.zmtcdn.com/data/dish_photos/238/f6c649be00d9fc092ae069054b4b3238.png?fit=around|130:130&amp;crop=130:130;*,*\"/>,\n",
       " <img alt=\"Paper Plain Dosa\" class=\"sc-s1isp7-5 fyZwWD\" loading=\"lazy\" src=\"https://b.zmtcdn.com/data/dish_photos/62e/bb1d8658b252597378fe388966c0662e.png?fit=around|130:130&amp;crop=130:130;*,*\"/>,\n",
       " <img alt=\"Veg Chowmein [1 Plate]\" class=\"sc-s1isp7-5 fyZwWD\" loading=\"lazy\" src=\"https://b.zmtcdn.com/data/dish_photos/fcd/7b3f0185d7da6a242c7f950083975fcd.png?fit=around|130:130&amp;crop=130:130;*,*\"/>,\n",
       " <img alt=\"Motichoor Laddu\" class=\"sc-s1isp7-5 fyZwWD\" loading=\"lazy\" src=\"https://b.zmtcdn.com/data/dish_photos/305/2220031d49aa7dded299a19a6127b305.png?fit=around|130:130&amp;crop=130:130;*,*\"/>,\n",
       " <img alt=\"Special Mewa Motichoor Laddu\" class=\"sc-s1isp7-5 fyZwWD\" loading=\"lazy\" src=\"https://b.zmtcdn.com/data/dish_photos/903/f78bdc4a1bb4a1118739c62d1db8e903.png?fit=around|130:130&amp;crop=130:130;*,*\"/>,\n",
       " <img alt=\"Besan Laddu\" class=\"sc-s1isp7-5 fyZwWD\" loading=\"lazy\" src=\"https://b.zmtcdn.com/data/dish_photos/634/d16737a746abe2cedfae044fdf0b1634.png?fit=around|130:130&amp;crop=130:130;*,*\"/>,\n",
       " <img alt=\"Kaju Burfi\" class=\"sc-s1isp7-5 fyZwWD\" loading=\"lazy\" src=\"https://b.zmtcdn.com/data/dish_photos/594/453c061c7d4dfaf1d3bb4698f6e90594.png?fit=around|130:130&amp;crop=130:130;*,*\"/>,\n",
       " <img alt=\"Sethaura\" class=\"sc-s1isp7-5 fyZwWD\" loading=\"lazy\" src=\"https://b.zmtcdn.com/data/dish_photos/b22/785e66e7f27ec24a1b5b3bafbdd1fb22.png?fit=around|130:130&amp;crop=130:130;*,*\"/>,\n",
       " <img alt=\"Gond Laddu\" class=\"sc-s1isp7-5 fyZwWD\" loading=\"lazy\" src=\"https://b.zmtcdn.com/data/dish_photos/c95/7ac23b28bd67388c40b28a6027046c95.jpg?fit=around|130:130&amp;crop=130:130;*,*\"/>,\n",
       " <img alt=\"Standard Burfi\" class=\"sc-s1isp7-5 fyZwWD\" loading=\"lazy\" src=\"https://b.zmtcdn.com/data/dish_photos/542/82292cd85a310ed3bea402f1d6fd7542.png?fit=around|130:130&amp;crop=130:130;*,*\"/>,\n",
       " <img alt=\"Lal Peda\" class=\"sc-s1isp7-5 fyZwWD\" loading=\"lazy\" src=\"https://b.zmtcdn.com/data/dish_photos/944/165b9af5a0f2effb6d8bef06406f0944.png?fit=around|130:130&amp;crop=130:130;*,*\"/>,\n",
       " <img alt=\"Karachi Halwa\" class=\"sc-s1isp7-5 fyZwWD\" loading=\"lazy\" src=\"https://b.zmtcdn.com/data/dish_photos/23d/f99f898cf404878a48048670690f823d.png?fit=around|130:130&amp;crop=130:130;*,*\"/>,\n",
       " <img alt=\"Parval Laata [250 g]\" class=\"sc-s1isp7-5 fyZwWD\" loading=\"lazy\" src=\"https://b.zmtcdn.com/data/dish_photos/9b2/ed9c58a499faef76eca3979d9a51f9b2.png?fit=around|130:130&amp;crop=130:130;*,*\"/>,\n",
       " <img alt=\"Pateesha\" class=\"sc-s1isp7-5 fyZwWD\" loading=\"lazy\" src=\"https://b.zmtcdn.com/data/dish_photos/d1c/5872838b8b8d2792b3c318fd4280bd1c.png?fit=around|130:130&amp;crop=130:130;*,*\"/>,\n",
       " <img alt=\"Plain Peda [Safed Peda]\" class=\"sc-s1isp7-5 fyZwWD\" loading=\"lazy\" src=\"https://b.zmtcdn.com/data/dish_photos/800/993d9f0b786f9bec55e884c5f0e4a800.png?fit=around|130:130&amp;crop=130:130;*,*\"/>,\n",
       " <img alt=\"Sutarfeni [250 g]\" class=\"sc-s1isp7-5 fyZwWD\" loading=\"lazy\" src=\"https://b.zmtcdn.com/data/dish_photos/29f/fbe3c9a5ed96f61d033e5d1a8dc6f29f.png?fit=around|130:130&amp;crop=130:130;*,*\"/>,\n",
       " <img alt=\"Gulab Jamun [1 Piece]\" class=\"sc-s1isp7-5 fyZwWD\" loading=\"lazy\" src=\"https://b.zmtcdn.com/data/dish_photos/2ba/01f31c6d2f74d37c3b50f85e78f0b2ba.png?fit=around|130:130&amp;crop=130:130;*,*\"/>,\n",
       " <img alt=\"Rasmalai [5 Pieces]\" class=\"sc-s1isp7-5 fyZwWD\" loading=\"lazy\" src=\"https://b.zmtcdn.com/data/dish_photos/8b0/5ae16dc14f47c517b3a559608c53c8b0.png?fit=around|130:130&amp;crop=130:130;*,*\"/>,\n",
       " <img alt=\"Kaju Pista Paan\" class=\"sc-s1isp7-5 fyZwWD\" loading=\"lazy\" src=\"https://b.zmtcdn.com/data/dish_photos/a61/c46737aa5a29f89fd79757642d9dfa61.png?fit=around|130:130&amp;crop=130:130;*,*\"/>,\n",
       " <img alt=\"Mewa Bites\" class=\"sc-s1isp7-5 fyZwWD\" loading=\"lazy\" src=\"https://b.zmtcdn.com/data/dish_photos/571/fa77b9c953346bc6dfe0a23c06a28571.png?fit=around|130:130&amp;crop=130:130;*,*\"/>,\n",
       " <img alt=\"Kali Gajar Halwa\" class=\"sc-s1isp7-5 fyZwWD\" loading=\"lazy\" src=\"https://b.zmtcdn.com/data/dish_photos/b66/2b3bc96dca6306559ff5a2ab17acfb66.png?fit=around|130:130&amp;crop=130:130;*,*\"/>,\n",
       " <img alt=\"Sohan Halwa\" class=\"sc-s1isp7-5 fyZwWD\" loading=\"lazy\" src=\"https://b.zmtcdn.com/data/dish_photos/071/85b6e872f658632d0c27e22c377ce071.png?fit=around|130:130&amp;crop=130:130;*,*\"/>,\n",
       " <img alt=\"Sugar Free Mewa Laddu\" class=\"sc-s1isp7-5 fyZwWD\" loading=\"lazy\" src=\"https://b.zmtcdn.com/data/dish_photos/812/9e171f1b9914cfd2e6d010e00c606812.png?fit=around|130:130&amp;crop=130:130;*,*\"/>,\n",
       " <img alt=\"Sugarfree Bites\" class=\"sc-s1isp7-5 fyZwWD\" loading=\"lazy\" src=\"https://b.zmtcdn.com/data/dish_photos/464/21cf7b8634aa716b149e47a958346464.png?fit=around|130:130&amp;crop=130:130;*,*\"/>,\n",
       " <img alt=\"Mixed Falahari Sweets [1 kg]\" class=\"sc-s1isp7-5 fyZwWD\" loading=\"lazy\" src=\"https://b.zmtcdn.com/data/dish_photos/99a/5a21fc9a9912463ee99b4d87036ef99a.png?fit=around|130:130&amp;crop=130:130;*,*\"/>,\n",
       " <img alt=\"Kaju and Pista Mixed Sweets [1 kg]\" class=\"sc-s1isp7-5 fyZwWD\" loading=\"lazy\" src=\"https://b.zmtcdn.com/data/dish_photos/705/9238f50e052b0f6237f4e0c193583705.png?fit=around|130:130&amp;crop=130:130;*,*\"/>,\n",
       " <img alt=\"Mixed Desi Ghee Sweets [1 kg]\" class=\"sc-s1isp7-5 fyZwWD\" loading=\"lazy\" src=\"https://b.zmtcdn.com/data/dish_photos/c9d/3fc1a33549b71d84c2ce1227aee3ec9d.png?fit=around|130:130&amp;crop=130:130;*,*\"/>,\n",
       " <img alt=\"Mixed Bengali Sweets [1 kg]\" class=\"sc-s1isp7-5 fyZwWD\" loading=\"lazy\" src=\"https://b.zmtcdn.com/data/dish_photos/822/b1c84b7d6b372aea01a3893e120cf822.png?fit=around|130:130&amp;crop=130:130;*,*\"/>,\n",
       " <img alt=\"Mixed Mithai [1 kg]\" class=\"sc-s1isp7-5 fyZwWD\" loading=\"lazy\" src=\"https://b.zmtcdn.com/data/dish_photos/bf8/32c89cc14b54674a06a99e43c7eeabf8.png?fit=around|130:130&amp;crop=130:130;*,*\"/>,\n",
       " <img alt=\"Laddu Special Box [1 kg]\" class=\"sc-s1isp7-5 fyZwWD\" loading=\"lazy\" src=\"https://b.zmtcdn.com/data/dish_photos/73d/43c99fda7af6db2e7937694d40b5273d.png?fit=around|130:130&amp;crop=130:130;*,*\"/>,\n",
       " <img alt=\"image\" class=\"sc-s1isp7-5 fyZwWD\" loading=\"lazy\" src=\"https://b.zmtcdn.com/data/webuikit/9f0c85a5e33adb783fa0aef667075f9e1556003622.png\"/>,\n",
       " <img alt=\"image\" class=\"sc-s1isp7-5 fyZwWD\" loading=\"lazy\" src=\"https://b.zmtcdn.com/data/webuikit/23e930757c3df49840c482a8638bf5c31556001144.png\"/>]"
      ]
     },
     "execution_count": 12,
     "metadata": {},
     "output_type": "execute_result"
    }
   ],
   "source": [
    "image_tags"
   ]
  },
  {
   "cell_type": "code",
   "execution_count": 16,
   "id": "f06cd0a4",
   "metadata": {},
   "outputs": [],
   "source": [
    "import os\n",
    "output_dir = \"menu_images\"\n",
    "if not os.path.exists(output_dir):\n",
    "    os.makedirs(output_dir)"
   ]
  },
  {
   "cell_type": "code",
   "execution_count": 17,
   "id": "40fe08d7",
   "metadata": {},
   "outputs": [
    {
     "name": "stdout",
     "output_type": "stream",
     "text": [
      "Downloaded: Masala Dosa -> Masala Dosa.jpg\n",
      "Downloaded: Special Kaju Paneer Dosa -> Special Kaju Paneer Dosa.jpg\n",
      "Downloaded: Pav Bhaji [1 Plate, 2 Pav] -> Pav Bhaji _1 Plate_ 2 Pav_.jpg\n",
      "Downloaded: Paper Plain Dosa -> Paper Plain Dosa.jpg\n",
      "Downloaded: Veg Chowmein [1 Plate] -> Veg Chowmein _1 Plate_.jpg\n",
      "Downloaded: Motichoor Laddu -> Motichoor Laddu.jpg\n",
      "Downloaded: Special Mewa Motichoor Laddu -> Special Mewa Motichoor Laddu.jpg\n",
      "Downloaded: Besan Laddu -> Besan Laddu.jpg\n",
      "Downloaded: Kaju Burfi -> Kaju Burfi.jpg\n",
      "Downloaded: Sethaura -> Sethaura.jpg\n",
      "Downloaded: Gond Laddu -> Gond Laddu.jpg\n",
      "Downloaded: Standard Burfi -> Standard Burfi.jpg\n",
      "Downloaded: Lal Peda -> Lal Peda.jpg\n",
      "Downloaded: Karachi Halwa -> Karachi Halwa.jpg\n",
      "Downloaded: Parval Laata [250 g] -> Parval Laata _250 g_.jpg\n",
      "Downloaded: Pateesha -> Pateesha.jpg\n",
      "Downloaded: Plain Peda [Safed Peda] -> Plain Peda _Safed Peda_.jpg\n",
      "Downloaded: Sutarfeni [250 g] -> Sutarfeni _250 g_.jpg\n",
      "Downloaded: Gulab Jamun [1 Piece] -> Gulab Jamun _1 Piece_.jpg\n",
      "Downloaded: Rasmalai [5 Pieces] -> Rasmalai _5 Pieces_.jpg\n",
      "Downloaded: Kaju Pista Paan -> Kaju Pista Paan.jpg\n",
      "Downloaded: Mewa Bites -> Mewa Bites.jpg\n",
      "Downloaded: Kali Gajar Halwa -> Kali Gajar Halwa.jpg\n",
      "Downloaded: Sohan Halwa -> Sohan Halwa.jpg\n",
      "Downloaded: Sugar Free Mewa Laddu -> Sugar Free Mewa Laddu.jpg\n",
      "Downloaded: Sugarfree Bites -> Sugarfree Bites.jpg\n",
      "Downloaded: Mixed Falahari Sweets [1 kg] -> Mixed Falahari Sweets _1 kg_.jpg\n",
      "Downloaded: Kaju and Pista Mixed Sweets [1 kg] -> Kaju and Pista Mixed Sweets _1 kg_.jpg\n",
      "Downloaded: Mixed Desi Ghee Sweets [1 kg] -> Mixed Desi Ghee Sweets _1 kg_.jpg\n",
      "Downloaded: Mixed Bengali Sweets [1 kg] -> Mixed Bengali Sweets _1 kg_.jpg\n",
      "Downloaded: Mixed Mithai [1 kg] -> Mixed Mithai _1 kg_.jpg\n",
      "Downloaded: Laddu Special Box [1 kg] -> Laddu Special Box _1 kg_.jpg\n",
      "Downloaded: image -> image.jpg\n",
      "Downloaded: image -> image.jpg\n"
     ]
    }
   ],
   "source": [
    "# Download images and save item names\n",
    "item_data = []  # To store item names and image paths\n",
    "for idx, img_tag in enumerate(image_tags, start=1):\n",
    "    img_url = img_tag.get('src') or img_tag.get('data-src')\n",
    "    item_name = img_tag.get('alt')  # Extract the item name from 'alt' attribute\n",
    "    if img_url and item_name:\n",
    "        try:\n",
    "            # Sanitize item name to use as a file name\n",
    "            sanitized_name = \"\".join(c if c.isalnum() or c in \" _-\" else \"_\" for c in item_name)\n",
    "            img_name = f\"{sanitized_name}.jpg\"\n",
    "            img_path = os.path.join(output_dir, img_name)\n",
    "\n",
    "            # Download and save the image\n",
    "            img_data = requests.get(img_url).content\n",
    "            with open(img_path, 'wb') as img_file:\n",
    "                img_file.write(img_data)\n",
    "\n",
    "            print(f\"Downloaded: {item_name} -> {img_name}\")\n",
    "            item_data.append({'Item Name': item_name, 'Image Path': img_path})\n",
    "        except Exception as e:\n",
    "            print(f\"Failed to download image for {item_name}: {e}\")"
   ]
  },
  {
   "cell_type": "code",
   "execution_count": 19,
   "id": "b85ff537",
   "metadata": {},
   "outputs": [],
   "source": [
    "driver.quit()"
   ]
  }
 ],
 "metadata": {
  "kernelspec": {
   "display_name": "Python [conda env:base] *",
   "language": "python",
   "name": "conda-base-py"
  },
  "language_info": {
   "codemirror_mode": {
    "name": "ipython",
    "version": 3
   },
   "file_extension": ".py",
   "mimetype": "text/x-python",
   "name": "python",
   "nbconvert_exporter": "python",
   "pygments_lexer": "ipython3",
   "version": "3.12.7"
  }
 },
 "nbformat": 4,
 "nbformat_minor": 5
}
